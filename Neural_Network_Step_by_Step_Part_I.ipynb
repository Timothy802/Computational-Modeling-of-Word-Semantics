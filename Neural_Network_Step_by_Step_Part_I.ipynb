{
 "cells": [
  {
   "cell_type": "markdown",
   "metadata": {},
   "source": [
    "## Neual Network Step by Step - Part I\n",
    "\n",
    "Written by: Timothy (tq.wang93@hotmail.com)\n",
    "\n",
    "Initial draft: November 2020\n",
    "\n",
    "Last update: November 2020\n",
    "\n",
    "<img style=\"float: center;\" src=\"Figures/NN_Part_I_head.gif\" width=\"100%\"> \n",
    "\n",
    "---\n",
    "\n",
    "### Logistic regression from scratch\n",
    "\n",
    "Please read [my tutorial](https://github.com/Timothy802/Computational-Modeling-of-Word-Semantics/blob/main/Neural_Netword_Step_by_Step_Part_I.pdf) on logistic regression, which will help you understand why we code like this."
   ]
  },
  {
   "cell_type": "markdown",
   "metadata": {},
   "source": [
    "### Coding a logistic regression\n",
    "\n",
    "#### Code: sigmoid function"
   ]
  },
  {
   "cell_type": "code",
   "execution_count": null,
   "metadata": {},
   "outputs": [],
   "source": [
    "# define sigmoid function\n",
    "def sigmoid(z):\n",
    "    a = 1 / (1 + np.exp(-z))\n",
    "    return a"
   ]
  },
  {
   "cell_type": "markdown",
   "metadata": {},
   "source": [
    "#### Code: feed-forward, cost function and gradient descent\n",
    "\n",
    "- Feed-forward\n",
    "- Cost function\n",
    "- Gradient descent"
   ]
  },
  {
   "cell_type": "code",
   "execution_count": null,
   "metadata": {},
   "outputs": [],
   "source": [
    "# initialize parameters\n",
    "n_dim = train_data_sta.shape[0] # number of rows in training data\n",
    "w = np.zeros((n_dim, 1))\n",
    "b = 0\n",
    "\n",
    "# propagate\n",
    "def propagate(w, b, X, Y):\n",
    "    \n",
    "    # feed-forward function\n",
    "    Z = np.dot(w.T, X) + b # np.dot -> matrix multiplication\n",
    "    A = sigmoid(Z)\n",
    "    \n",
    "    # cost function\n",
    "    m = X.shape[1]\n",
    "    J = -1/m * np.sum(Y * np.log(A) + (1-Y) * np.log(1-A))\n",
    "    \n",
    "    # gradient descent (Note: mean)\n",
    "    dw = 1/m * np.dot(X,(A-Y).T)\n",
    "    db = 1/m * np.sum(A-Y)\n",
    "    \n",
    "    grands = {'dw': dw, 'db': db}\n",
    "    \n",
    "    return grands, J"
   ]
  },
  {
   "cell_type": "markdown",
   "metadata": {},
   "source": [
    "#### Code: optimization"
   ]
  },
  {
   "cell_type": "code",
   "execution_count": null,
   "metadata": {},
   "outputs": [],
   "source": [
    "# Optimization\n",
    "def optimize(w, b, X, Y, alpha, n_iters):\n",
    "    costs = []\n",
    "    for i in range(n_iters):\n",
    "        grands, J = propagate(w, b, X, Y)\n",
    "        dw = grands['dw']\n",
    "        db = grands['db']\n",
    "        \n",
    "        w = w - alpha * dw\n",
    "        b = b - alpha * db\n",
    "        \n",
    "        if i % 100 == 0:\n",
    "            costs.append(J)\n",
    "            print('Epoch %d: cost = %.4f' % (i+1, J))\n",
    "     \n",
    "    grands = {'dw': dw, 'db': db}\n",
    "    params = {'w': w, 'b': b}\n",
    "    \n",
    "    return grands, params, costs"
   ]
  },
  {
   "cell_type": "markdown",
   "metadata": {},
   "source": [
    "#### Code: prediction"
   ]
  },
  {
   "cell_type": "code",
   "execution_count": null,
   "metadata": {},
   "outputs": [],
   "source": [
    "# Prediction\n",
    "def predict(w, b, X_test):\n",
    "    \n",
    "    Z = np.dot(w.T, X_test) + b\n",
    "    A = sigmoid(Z)\n",
    "    \n",
    "    m = X_test.shape[1]\n",
    "    Y_pred = np.zeros((1, m))\n",
    "    \n",
    "    for i in range(m):\n",
    "        if A[:, i] > 0.5:\n",
    "            Y_pred[:, i] = 1\n",
    "        else:\n",
    "            Y_pred[:, i] = 0\n",
    "    \n",
    "    return Y_pred"
   ]
  },
  {
   "cell_type": "markdown",
   "metadata": {},
   "source": [
    "#### Code: integrating previous steps"
   ]
  },
  {
   "cell_type": "code",
   "execution_count": null,
   "metadata": {},
   "outputs": [],
   "source": [
    "# integrating previous steps\n",
    "def model(w, b, X_train, X_test, Y_train, Y_test, alpha, n_iters):\n",
    "    grands, params, costs = optimize(w, b, X_train, Y_train, alpha, n_iters)\n",
    "    w = params['w']\n",
    "    b = params['b']\n",
    "    \n",
    "    Y_pred_train = predict(w, b, X_train)\n",
    "    Y_pred_test = predict(w, b, X_test)\n",
    "    \n",
    "    print('Train accuracy: %.2f' % np.mean(y_pred_train == y_train))\n",
    "    print('Test accuracy: %.2f' % np.mean(y_pred_test == y_test))\n",
    "    \n",
    "    dic = {\n",
    "           'w': w,\n",
    "           'b': b,\n",
    "           'costs': costs,\n",
    "           'y_pred_train': y_pred_train,\n",
    "           'y_pred_test': y_pred_test,\n",
    "           'alpha': alpha\n",
    "    }\n",
    "    \n",
    "    return dic"
   ]
  },
  {
   "cell_type": "markdown",
   "metadata": {},
   "source": [
    "#### Code: train and test\n",
    "\n",
    "- Train and test"
   ]
  },
  {
   "cell_type": "code",
   "execution_count": null,
   "metadata": {},
   "outputs": [],
   "source": [
    "dic = model(w, b, \n",
    "            train_data_sta, train_labels_tran, \n",
    "            test_data_sta, test_labels_tran,\n",
    "            alpha = 0.005, n_iters = 2000\n",
    "           )"
   ]
  },
  {
   "cell_type": "markdown",
   "metadata": {},
   "source": [
    "- Plot the change of cost as a function of iterations"
   ]
  },
  {
   "cell_type": "code",
   "execution_count": null,
   "metadata": {},
   "outputs": [],
   "source": [
    "plt.plot(b['costs'])\n",
    "plt.xlabel('per hundred iterations')\n",
    "plt.ylabel('cost')"
   ]
  },
  {
   "cell_type": "markdown",
   "metadata": {},
   "source": [
    "#### Code: predict a picture"
   ]
  },
  {
   "cell_type": "code",
   "execution_count": null,
   "metadata": {},
   "outputs": [],
   "source": [
    "index = 1\n",
    "print('True label: %d' % test_labels_tran[0, index])\n",
    "print('Pred label: %d' % int(b['y_pred_test'][0, index]))\n",
    "\n",
    "# show the picture\n",
    "plt.imshow(test_data_org[index])"
   ]
  }
 ],
 "metadata": {
  "kernelspec": {
   "display_name": "Python 3",
   "language": "python",
   "name": "python3"
  },
  "language_info": {
   "codemirror_mode": {
    "name": "ipython",
    "version": 3
   },
   "file_extension": ".py",
   "mimetype": "text/x-python",
   "name": "python",
   "nbconvert_exporter": "python",
   "pygments_lexer": "ipython3",
   "version": "3.7.6"
  }
 },
 "nbformat": 4,
 "nbformat_minor": 4
}
